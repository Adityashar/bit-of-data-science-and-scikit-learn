{
 "cells": [
  {
   "cell_type": "markdown",
   "metadata": {},
   "source": [
    "# Tuning the hyper-parameters of an estimator\n",
    "\n",
    "Hyper-parameters are parameters that are not directly learnt within estimators. In scikit-learn they are passed as arguments to the constructor of the estimator classes. Typical examples include C, kernel and gamma for Support Vector Classifier, alpha for Lasso, etc.\n",
    "\n",
    "It is possible and recommended to search the hyper-parameter space for the best Cross-validation: evaluating estimator performance score.\n",
    "\n",
    "Any parameter provided when constructing an estimator may be optimized in this manner. Specifically, to find the names and current values for all parameters for a given estimator, use:\n",
    "\n",
    "`estimator.get_params()`\n",
    "\n",
    "A search consists of:\n",
    "* an estimator (regressor or classifier such as sklearn.svm.SVC());\n",
    "* a parameter space;\n",
    "* a method for searching or sampling candidates;\n",
    "* a cross-validation scheme; and\n",
    "* a score function.\n",
    "\n",
    "Some models allow for specialized, efficient parameter search strategies, outlined below. Two generic approaches to sampling search candidates are provided in scikit-learn: for given values, GridSearchCV exhaustively considers all parameter combinations, while RandomizedSearchCV can sample a given number of candidates from a parameter space with a specified distribution. After describing these tools we detail best practice applicable to both approaches.\n",
    "\n",
    "Note that it is common that a small subset of those parameters can have a large impact on the predictive or computation performance of the model while others can be left to their default values. It is recommend to read the docstring of the estimator class to get a finer understanding of their expected behavior, possibly by reading the enclosed reference to the literature."
   ]
  },
  {
   "cell_type": "markdown",
   "metadata": {},
   "source": [
    "## GridSearch\n",
    "\n",
    "The grid search provided by GridSearchCV exhaustively generates candidates from a grid of parameter values specified with the param_grid parameter. For instance, the following param_grid:"
   ]
  },
  {
   "cell_type": "code",
   "execution_count": 1,
   "metadata": {
    "collapsed": true
   },
   "outputs": [],
   "source": [
    "param_grid = [\n",
    "  {'C': [1, 10, 100, 1000], 'kernel': ['linear']},\n",
    "  {'C': [1, 10, 100, 1000], 'gamma': [0.001, 0.0001], 'kernel': ['rbf']},\n",
    " ]"
   ]
  },
  {
   "cell_type": "markdown",
   "metadata": {},
   "source": [
    "specifies that two grids should be explored: one with a linear kernel and C values in [1, 10, 100, 1000], and the second one with an RBF kernel, and the cross-product of C values ranging in [1, 10, 100, 1000] and gamma values in [0.001, 0.0001].\n",
    "\n",
    "The GridSearchCV instance implements the usual estimator API: when “fitting” it on a dataset all the possible combinations of parameter values are evaluated and the best combination is retained."
   ]
  },
  {
   "cell_type": "code",
   "execution_count": 2,
   "metadata": {
    "collapsed": true
   },
   "outputs": [],
   "source": [
    "from sklearn.model_selection import GridSearchCV\n",
    "\n",
    "GridSearchCV?"
   ]
  },
  {
   "cell_type": "code",
   "execution_count": 4,
   "metadata": {
    "collapsed": false
   },
   "outputs": [
    {
     "data": {
      "text/plain": [
       "GridSearchCV(cv=5, error_score='raise',\n",
       "       estimator=SVC(C=1, cache_size=200, class_weight=None, coef0=0.0,\n",
       "  decision_function_shape=None, degree=3, gamma='auto', kernel='rbf',\n",
       "  max_iter=-1, probability=False, random_state=None, shrinking=True,\n",
       "  tol=0.001, verbose=False),\n",
       "       fit_params={}, iid=True, n_jobs=1,\n",
       "       param_grid=[{'kernel': ['rbf'], 'C': [1, 10, 100, 1000], 'gamma': [0.001, 0.0001]}, {'kernel': ['linear'], 'C': [1, 10, 100, 1000]}],\n",
       "       pre_dispatch='2*n_jobs', refit=True, return_train_score=True,\n",
       "       scoring='f1_macro', verbose=0)"
      ]
     },
     "execution_count": 4,
     "metadata": {},
     "output_type": "execute_result"
    }
   ],
   "source": [
    "from sklearn import datasets\n",
    "from sklearn.model_selection import train_test_split\n",
    "from sklearn.metrics import classification_report\n",
    "from sklearn.svm import SVC\n",
    "\n",
    "digits = datasets.load_digits()\n",
    "\n",
    "n_samples = len(digits.images)\n",
    "X = digits.images.reshape((n_samples, -1))\n",
    "y = digits.target\n",
    "\n",
    "# Split the dataset in two equal parts\n",
    "X_train, X_test, y_train, y_test = train_test_split(\n",
    "    X, y, test_size=0.5, random_state=0)\n",
    "\n",
    "tuned_parameters = [{'kernel': ['rbf'], 'gamma': [1e-3, 1e-4],\n",
    "                     'C': [1, 10, 100, 1000]},\n",
    "                    {'kernel': ['linear'], 'C': [1, 10, 100, 1000]}]\n",
    "\n",
    "\n",
    "\n",
    "clf = GridSearchCV(SVC(C=1), tuned_parameters, cv=5,\n",
    "                       scoring='f1_macro')\n",
    "clf.fit(X_train, y_train)"
   ]
  },
  {
   "cell_type": "code",
   "execution_count": 5,
   "metadata": {
    "collapsed": false
   },
   "outputs": [
    {
     "data": {
      "text/plain": [
       "{'C': 10, 'gamma': 0.001, 'kernel': 'rbf'}"
      ]
     },
     "execution_count": 5,
     "metadata": {},
     "output_type": "execute_result"
    }
   ],
   "source": [
    "clf.best_params_\n"
   ]
  },
  {
   "cell_type": "code",
   "execution_count": 7,
   "metadata": {
    "collapsed": false
   },
   "outputs": [
    {
     "data": {
      "text/plain": [
       "{'mean_fit_time': array([ 0.03532753,  0.03244863,  0.03953652,  0.02018104,  0.03606558,\n",
       "         0.01936202,  0.03786693,  0.01855245,  0.01360378,  0.01532059,\n",
       "         0.01455026,  0.01246114]),\n",
       " 'mean_score_time': array([ 0.00695519,  0.00876093,  0.00837746,  0.00593371,  0.00756097,\n",
       "         0.00600743,  0.00806184,  0.00540257,  0.00406303,  0.00455704,\n",
       "         0.00417662,  0.00362806]),\n",
       " 'mean_test_score': array([ 0.98558453,  0.95701735,  0.98693226,  0.98097324,  0.98693226,\n",
       "         0.98115042,  0.98693226,  0.98115042,  0.97273826,  0.97273826,\n",
       "         0.97273826,  0.97273826]),\n",
       " 'mean_train_score': array([ 0.99887682,  0.96731111,  1.        ,  0.99800229,  1.        ,\n",
       "         1.        ,  1.        ,  1.        ,  1.        ,  1.        ,\n",
       "         1.        ,  1.        ]),\n",
       " 'param_C': masked_array(data = [1 1 10 10 100 100 1000 1000 1 10 100 1000],\n",
       "              mask = [False False False False False False False False False False False False],\n",
       "        fill_value = ?),\n",
       " 'param_gamma': masked_array(data = [0.001 0.0001 0.001 0.0001 0.001 0.0001 0.001 0.0001 -- -- -- --],\n",
       "              mask = [False False False False False False False False  True  True  True  True],\n",
       "        fill_value = ?),\n",
       " 'param_kernel': masked_array(data = ['rbf' 'rbf' 'rbf' 'rbf' 'rbf' 'rbf' 'rbf' 'rbf' 'linear' 'linear' 'linear'\n",
       "  'linear'],\n",
       "              mask = [False False False False False False False False False False False False],\n",
       "        fill_value = ?),\n",
       " 'params': ({'C': 1, 'gamma': 0.001, 'kernel': 'rbf'},\n",
       "  {'C': 1, 'gamma': 0.0001, 'kernel': 'rbf'},\n",
       "  {'C': 10, 'gamma': 0.001, 'kernel': 'rbf'},\n",
       "  {'C': 10, 'gamma': 0.0001, 'kernel': 'rbf'},\n",
       "  {'C': 100, 'gamma': 0.001, 'kernel': 'rbf'},\n",
       "  {'C': 100, 'gamma': 0.0001, 'kernel': 'rbf'},\n",
       "  {'C': 1000, 'gamma': 0.001, 'kernel': 'rbf'},\n",
       "  {'C': 1000, 'gamma': 0.0001, 'kernel': 'rbf'},\n",
       "  {'C': 1, 'kernel': 'linear'},\n",
       "  {'C': 10, 'kernel': 'linear'},\n",
       "  {'C': 100, 'kernel': 'linear'},\n",
       "  {'C': 1000, 'kernel': 'linear'}),\n",
       " 'rank_test_score': array([ 4, 12,  1,  7,  1,  5,  1,  5,  8,  8,  8,  8], dtype=int32),\n",
       " 'split0_test_score': array([ 0.99444015,  0.97790287,  0.99444015,  0.99440559,  0.99444015,\n",
       "         0.98900019,  0.99444015,  0.98900019,  0.9726792 ,  0.9726792 ,\n",
       "         0.9726792 ,  0.9726792 ]),\n",
       " 'split0_train_score': array([ 0.99859092,  0.96475314,  1.        ,  0.99859092,  1.        ,\n",
       "         1.        ,  1.        ,  1.        ,  1.        ,  1.        ,\n",
       "         1.        ,  1.        ]),\n",
       " 'split1_test_score': array([ 0.98829347,  0.96045227,  0.98829347,  0.97699416,  0.98829347,\n",
       "         0.98283702,  0.98829347,  0.98283702,  0.9766789 ,  0.9766789 ,\n",
       "         0.9766789 ,  0.9766789 ]),\n",
       " 'split1_train_score': array([ 1.        ,  0.96321116,  1.        ,  0.99706184,  1.        ,\n",
       "         1.        ,  1.        ,  1.        ,  1.        ,  1.        ,\n",
       "         1.        ,  1.        ]),\n",
       " 'split2_test_score': array([ 0.96876957,  0.94528263,  0.96876957,  0.9628626 ,  0.96876957,\n",
       "         0.95652732,  0.96876957,  0.95652732,  0.96215553,  0.96215553,\n",
       "         0.96215553,  0.96215553]),\n",
       " 'split2_train_score': array([ 0.99859092,  0.96311365,  1.        ,  0.99715642,  1.        ,\n",
       "         1.        ,  1.        ,  1.        ,  1.        ,  1.        ,\n",
       "         1.        ,  1.        ]),\n",
       " 'split3_test_score': array([ 0.98260084,  0.93617259,  0.98902737,  0.97063147,  0.98902737,\n",
       "         0.98347181,  0.98902737,  0.98347181,  0.97042428,  0.97042428,\n",
       "         0.97042428,  0.97042428]),\n",
       " 'split3_train_score': array([ 0.99860112,  0.97769127,  1.        ,  0.99860112,  1.        ,\n",
       "         1.        ,  1.        ,  1.        ,  1.        ,  1.        ,\n",
       "         1.        ,  1.        ]),\n",
       " 'split4_test_score': array([ 0.99369458,  0.96476554,  0.99407149,  1.        ,  0.99407149,\n",
       "         0.99393939,  0.99407149,  0.99393939,  0.98182808,  0.98182808,\n",
       "         0.98182808,  0.98182808]),\n",
       " 'split4_train_score': array([ 0.99860112,  0.96778631,  1.        ,  0.99860112,  1.        ,\n",
       "         1.        ,  1.        ,  1.        ,  1.        ,  1.        ,\n",
       "         1.        ,  1.        ]),\n",
       " 'std_fit_time': array([ 0.00300672,  0.00138415,  0.00330866,  0.0013775 ,  0.00332075,\n",
       "         0.00046906,  0.00123813,  0.00148421,  0.00067015,  0.00039003,\n",
       "         0.00112423,  0.00027557]),\n",
       " 'std_score_time': array([  2.44943567e-04,   3.07265851e-04,   9.41595542e-04,\n",
       "          6.02768141e-04,   9.35628299e-04,   2.83903374e-04,\n",
       "          3.52279515e-04,   4.25045459e-04,   2.60670507e-04,\n",
       "          1.08435391e-04,   2.85222050e-04,   8.07040939e-05]),\n",
       " 'std_test_score': array([ 0.00940658,  0.0147182 ,  0.00940629,  0.01405381,  0.00940629,\n",
       "         0.01292718,  0.00940629,  0.01292718,  0.00653659,  0.00653659,\n",
       "         0.00653659,  0.00653659]),\n",
       " 'std_train_score': array([ 0.00056161,  0.00545793,  0.        ,  0.00072988,  0.        ,\n",
       "         0.        ,  0.        ,  0.        ,  0.        ,  0.        ,\n",
       "         0.        ,  0.        ])}"
      ]
     },
     "execution_count": 7,
     "metadata": {},
     "output_type": "execute_result"
    }
   ],
   "source": [
    "clf.cv_results_"
   ]
  },
  {
   "cell_type": "code",
   "execution_count": 9,
   "metadata": {
    "collapsed": false
   },
   "outputs": [
    {
     "name": "stdout",
     "output_type": "stream",
     "text": [
      "             precision    recall  f1-score   support\n",
      "\n",
      "          0       1.00      1.00      1.00        89\n",
      "          1       0.97      1.00      0.98        90\n",
      "          2       0.99      0.98      0.98        92\n",
      "          3       1.00      0.99      0.99        93\n",
      "          4       1.00      1.00      1.00        76\n",
      "          5       0.99      0.98      0.99       108\n",
      "          6       0.99      1.00      0.99        89\n",
      "          7       0.99      1.00      0.99        78\n",
      "          8       1.00      0.98      0.99        92\n",
      "          9       0.99      0.99      0.99        92\n",
      "\n",
      "avg / total       0.99      0.99      0.99       899\n",
      "\n"
     ]
    }
   ],
   "source": [
    "y_true, y_pred = y_test, clf.predict(X_test)\n",
    "print classification_report(y_true, y_pred)"
   ]
  },
  {
   "cell_type": "code",
   "execution_count": 17,
   "metadata": {
    "collapsed": false
   },
   "outputs": [
    {
     "name": "stdout",
     "output_type": "stream",
     "text": [
      "{'kernel': 'rbf', 'C': 1, 'gamma': 0.001} 0.985584530844\n",
      "{'kernel': 'rbf', 'C': 1, 'gamma': 0.0001} 0.957017352561\n",
      "{'kernel': 'rbf', 'C': 10, 'gamma': 0.001} 0.986932256371\n",
      "{'kernel': 'rbf', 'C': 10, 'gamma': 0.0001} 0.980973238881\n",
      "{'kernel': 'rbf', 'C': 100, 'gamma': 0.001} 0.986932256371\n",
      "{'kernel': 'rbf', 'C': 100, 'gamma': 0.0001} 0.981150421585\n",
      "{'kernel': 'rbf', 'C': 1000, 'gamma': 0.001} 0.986932256371\n",
      "{'kernel': 'rbf', 'C': 1000, 'gamma': 0.0001} 0.981150421585\n",
      "{'kernel': 'linear', 'C': 1} 0.972738260762\n",
      "{'kernel': 'linear', 'C': 10} 0.972738260762\n",
      "{'kernel': 'linear', 'C': 100} 0.972738260762\n",
      "{'kernel': 'linear', 'C': 1000} 0.972738260762\n"
     ]
    }
   ],
   "source": [
    "for param, score in zip(clf.cv_results_['params'], clf.cv_results_['mean_test_score']):\n",
    "    print param, score"
   ]
  },
  {
   "cell_type": "markdown",
   "metadata": {},
   "source": [
    "## Randomized Search\n",
    "\n",
    "While using a grid of parameter settings is currently the most widely used method for parameter optimization, other search methods have more favourable properties. RandomizedSearchCV implements a randomized search over parameters, where each setting is sampled from a distribution over possible parameter values. This has two main benefits over an exhaustive search:\n",
    "\n",
    "* A budget can be chosen independent of the number of parameters and possible values.\n",
    "* Adding parameters that do not influence the performance does not decrease efficiency.\n",
    "\n",
    "Specifying how parameters should be sampled is done using a dictionary, very similar to specifying parameters for GridSearchCV. Additionally, a computation budget, being the number of sampled candidates or sampling iterations, is specified using the n_iter parameter. For each parameter, either a distribution over possible values or a list of discrete choices (which will be sampled uniformly) can be specified:"
   ]
  },
  {
   "cell_type": "code",
   "execution_count": 19,
   "metadata": {
    "collapsed": false
   },
   "outputs": [],
   "source": [
    "import scipy\n",
    "\n",
    "params = {'C': scipy.stats.expon(scale=100), 'gamma': scipy.stats.expon(scale=.1),\n",
    "  'kernel': ['rbf'], 'class_weight':['balanced', None]}"
   ]
  },
  {
   "cell_type": "markdown",
   "metadata": {},
   "source": [
    "This example uses the scipy.stats module, which contains many useful distributions for sampling parameters, such as expon, gamma, uniform or randint. In principle, any function can be passed that provides a rvs (random variate sample) method to sample a value. A call to the rvs function should provide independent random samples from possible parameter values on consecutive calls.\n",
    "\n",
    "For continuous parameters, such as C above, it is important to specify a continuous distribution to take full advantage of the randomization. This way, increasing n_iter will always lead to a finer search."
   ]
  },
  {
   "cell_type": "code",
   "execution_count": 20,
   "metadata": {
    "collapsed": true
   },
   "outputs": [],
   "source": [
    "from sklearn.model_selection import RandomizedSearchCV\n",
    "\n",
    "RandomizedSearchCV?"
   ]
  },
  {
   "cell_type": "code",
   "execution_count": 23,
   "metadata": {
    "collapsed": false
   },
   "outputs": [
    {
     "name": "stderr",
     "output_type": "stream",
     "text": [
      "/Users/nate/Desktop/scikit-learn-tutorial/env/lib/python2.7/site-packages/sklearn/metrics/classification.py:1113: UndefinedMetricWarning: F-score is ill-defined and being set to 0.0 in labels with no predicted samples.\n",
      "  'precision', 'predicted', average, warn_for)\n"
     ]
    },
    {
     "data": {
      "text/plain": [
       "RandomizedSearchCV(cv=5, error_score='raise',\n",
       "          estimator=SVC(C=1.0, cache_size=200, class_weight=None, coef0=0.0,\n",
       "  decision_function_shape=None, degree=3, gamma='auto', kernel='rbf',\n",
       "  max_iter=-1, probability=False, random_state=None, shrinking=True,\n",
       "  tol=0.001, verbose=False),\n",
       "          fit_params={}, iid=True, n_iter=10, n_jobs=1,\n",
       "          param_distributions={'kernel': ['rbf'], 'C': <scipy.stats._distn_infrastructure.rv_frozen object at 0x10961cbd0>, 'gamma': <scipy.stats._distn_infrastructure.rv_frozen object at 0x109b88b50>, 'class_weight': ['balanced', None]},\n",
       "          pre_dispatch='2*n_jobs', random_state=None, refit=True,\n",
       "          return_train_score=True, scoring='f1_macro', verbose=0)"
      ]
     },
     "execution_count": 23,
     "metadata": {},
     "output_type": "execute_result"
    }
   ],
   "source": [
    "clf = RandomizedSearchCV(SVC(), params, cv=5,\n",
    "                       scoring='f1_macro')\n",
    "clf.fit(X_train, y_train)"
   ]
  },
  {
   "cell_type": "code",
   "execution_count": 24,
   "metadata": {
    "collapsed": false,
    "deletable": true,
    "editable": true
   },
   "outputs": [
    {
     "data": {
      "text/plain": [
       "{'C': 8.8438967029975899,\n",
       " 'class_weight': 'balanced',\n",
       " 'gamma': 0.0021133683330287821,\n",
       " 'kernel': 'rbf'}"
      ]
     },
     "execution_count": 24,
     "metadata": {},
     "output_type": "execute_result"
    }
   ],
   "source": [
    "clf.best_params_\n"
   ]
  },
  {
   "cell_type": "code",
   "execution_count": 25,
   "metadata": {
    "collapsed": false,
    "deletable": true,
    "editable": true
   },
   "outputs": [
    {
     "data": {
      "text/plain": [
       "{'mean_fit_time': array([ 0.08509402,  0.09783897,  0.08647275,  0.08822656,  0.07021756,\n",
       "         0.08362317,  0.08630319,  0.08555436,  0.09086361,  0.08664904]),\n",
       " 'mean_score_time': array([ 0.00937319,  0.01686549,  0.01019506,  0.01044126,  0.00745783,\n",
       "         0.00987225,  0.00989423,  0.01001105,  0.01435685,  0.01008053]),\n",
       " 'mean_test_score': array([ 0.98181876,  0.02093678,  0.02093678,  0.02093678,  0.98547648,\n",
       "         0.02093678,  0.02093678,  0.02093678,  0.02093678,  0.02093678]),\n",
       " 'mean_train_score': array([ 1.,  1.,  1.,  1.,  1.,  1.,  1.,  1.,  1.,  1.]),\n",
       " 'param_C': masked_array(data = [176.80456634238672 107.54936517867026 149.58182196774291\n",
       "  86.699157677135389 8.8438967029975899 343.38607630362105\n",
       "  65.383331931643738 49.930074884039485 283.15977561592422\n",
       "  18.667112997544141],\n",
       "              mask = [False False False False False False False False False False],\n",
       "        fill_value = ?),\n",
       " 'param_class_weight': masked_array(data = ['balanced' 'balanced' None None 'balanced' 'balanced' 'balanced'\n",
       "  'balanced' None 'balanced'],\n",
       "              mask = [False False False False False False False False False False],\n",
       "        fill_value = ?),\n",
       " 'param_gamma': masked_array(data = [0.0030613186067675264 0.29265716357121202 0.14928860532327981\n",
       "  0.15756837726323633 0.0021133683330287821 0.12208582188350046\n",
       "  0.13766803348185574 0.08493927593788636 0.24526707457335048\n",
       "  0.12602464435197888],\n",
       "              mask = [False False False False False False False False False False],\n",
       "        fill_value = ?),\n",
       " 'param_kernel': masked_array(data = ['rbf' 'rbf' 'rbf' 'rbf' 'rbf' 'rbf' 'rbf' 'rbf' 'rbf' 'rbf'],\n",
       "              mask = [False False False False False False False False False False],\n",
       "        fill_value = ?),\n",
       " 'params': ({'C': 176.80456634238672,\n",
       "   'class_weight': 'balanced',\n",
       "   'gamma': 0.0030613186067675264,\n",
       "   'kernel': 'rbf'},\n",
       "  {'C': 107.54936517867026,\n",
       "   'class_weight': 'balanced',\n",
       "   'gamma': 0.29265716357121202,\n",
       "   'kernel': 'rbf'},\n",
       "  {'C': 149.58182196774291,\n",
       "   'class_weight': None,\n",
       "   'gamma': 0.14928860532327981,\n",
       "   'kernel': 'rbf'},\n",
       "  {'C': 86.699157677135389,\n",
       "   'class_weight': None,\n",
       "   'gamma': 0.15756837726323633,\n",
       "   'kernel': 'rbf'},\n",
       "  {'C': 8.8438967029975899,\n",
       "   'class_weight': 'balanced',\n",
       "   'gamma': 0.0021133683330287821,\n",
       "   'kernel': 'rbf'},\n",
       "  {'C': 343.38607630362105,\n",
       "   'class_weight': 'balanced',\n",
       "   'gamma': 0.12208582188350046,\n",
       "   'kernel': 'rbf'},\n",
       "  {'C': 65.383331931643738,\n",
       "   'class_weight': 'balanced',\n",
       "   'gamma': 0.13766803348185574,\n",
       "   'kernel': 'rbf'},\n",
       "  {'C': 49.930074884039485,\n",
       "   'class_weight': 'balanced',\n",
       "   'gamma': 0.08493927593788636,\n",
       "   'kernel': 'rbf'},\n",
       "  {'C': 283.15977561592422,\n",
       "   'class_weight': None,\n",
       "   'gamma': 0.24526707457335048,\n",
       "   'kernel': 'rbf'},\n",
       "  {'C': 18.667112997544141,\n",
       "   'class_weight': 'balanced',\n",
       "   'gamma': 0.12602464435197888,\n",
       "   'kernel': 'rbf'}),\n",
       " 'rank_test_score': array([2, 3, 3, 3, 1, 3, 3, 3, 3, 3], dtype=int32),\n",
       " 'split0_test_score': array([ 0.98888031,  0.02058824,  0.02058824,  0.02058824,  0.99444015,\n",
       "         0.02058824,  0.02058824,  0.02058824,  0.02058824,  0.02058824]),\n",
       " 'split0_train_score': array([ 1.,  1.,  1.,  1.,  1.,  1.,  1.,  1.,  1.,  1.]),\n",
       " 'split1_test_score': array([ 0.98829347,  0.02068966,  0.02068966,  0.02068966,  0.98829347,\n",
       "         0.02068966,  0.02068966,  0.02068966,  0.02068966,  0.02068966]),\n",
       " 'split1_train_score': array([ 1.,  1.,  1.,  1.,  1.,  1.,  1.,  1.,  1.,  1.]),\n",
       " 'split2_test_score': array([ 0.96107695,  0.021     ,  0.021     ,  0.021     ,  0.96785343,\n",
       "         0.021     ,  0.021     ,  0.021     ,  0.021     ,  0.021     ]),\n",
       " 'split2_train_score': array([ 1.,  1.,  1.,  1.,  1.,  1.,  1.,  1.,  1.,  1.]),\n",
       " 'split3_test_score': array([ 0.97705462,  0.02110553,  0.02110553,  0.02110553,  0.98297702,\n",
       "         0.02110553,  0.02110553,  0.02110553,  0.02110553,  0.02110553]),\n",
       " 'split3_train_score': array([ 1.,  1.,  1.,  1.,  1.,  1.,  1.,  1.,  1.,  1.]),\n",
       " 'split4_test_score': array([ 0.99369458,  0.0213198 ,  0.0213198 ,  0.0213198 ,  0.99369458,\n",
       "         0.0213198 ,  0.0213198 ,  0.0213198 ,  0.0213198 ,  0.0213198 ]),\n",
       " 'split4_train_score': array([ 1.,  1.,  1.,  1.,  1.,  1.,  1.,  1.,  1.,  1.]),\n",
       " 'std_fit_time': array([ 0.01058811,  0.00500834,  0.00289119,  0.00352435,  0.00460162,\n",
       "         0.00109475,  0.00280481,  0.00234939,  0.00304857,  0.00253387]),\n",
       " 'std_score_time': array([ 0.00068949,  0.00325198,  0.00020528,  0.00044723,  0.00023457,\n",
       "         0.00013656,  0.00015587,  0.00035965,  0.0003325 ,  0.00044291]),\n",
       " 'std_test_score': array([ 0.01168572,  0.00026894,  0.00026894,  0.00026894,  0.00971411,\n",
       "         0.00026894,  0.00026894,  0.00026894,  0.00026894,  0.00026894]),\n",
       " 'std_train_score': array([ 0.,  0.,  0.,  0.,  0.,  0.,  0.,  0.,  0.,  0.])}"
      ]
     },
     "execution_count": 25,
     "metadata": {},
     "output_type": "execute_result"
    }
   ],
   "source": [
    "clf.cv_results_"
   ]
  },
  {
   "cell_type": "code",
   "execution_count": 26,
   "metadata": {
    "collapsed": false,
    "deletable": true,
    "editable": true
   },
   "outputs": [
    {
     "name": "stdout",
     "output_type": "stream",
     "text": [
      "             precision    recall  f1-score   support\n",
      "\n",
      "          0       1.00      1.00      1.00        89\n",
      "          1       0.96      1.00      0.98        90\n",
      "          2       1.00      0.98      0.99        92\n",
      "          3       0.99      0.99      0.99        93\n",
      "          4       0.99      1.00      0.99        76\n",
      "          5       0.99      0.97      0.98       108\n",
      "          6       0.99      0.99      0.99        89\n",
      "          7       0.99      1.00      0.99        78\n",
      "          8       0.99      0.96      0.97        92\n",
      "          9       0.98      0.99      0.98        92\n",
      "\n",
      "avg / total       0.99      0.99      0.99       899\n",
      "\n"
     ]
    }
   ],
   "source": [
    "y_true, y_pred = y_test, clf.predict(X_test)\n",
    "print classification_report(y_true, y_pred)"
   ]
  },
  {
   "cell_type": "code",
   "execution_count": 27,
   "metadata": {
    "collapsed": false,
    "deletable": true,
    "editable": true
   },
   "outputs": [
    {
     "name": "stdout",
     "output_type": "stream",
     "text": [
      "{'kernel': 'rbf', 'C': 176.80456634238672, 'gamma': 0.0030613186067675264, 'class_weight': 'balanced'} 0.981818764829\n",
      "{'kernel': 'rbf', 'C': 107.54936517867026, 'gamma': 0.29265716357121202, 'class_weight': 'balanced'} 0.0209367845031\n",
      "{'kernel': 'rbf', 'C': 149.58182196774291, 'gamma': 0.14928860532327981, 'class_weight': None} 0.0209367845031\n",
      "{'kernel': 'rbf', 'C': 86.699157677135389, 'gamma': 0.15756837726323633, 'class_weight': None} 0.0209367845031\n",
      "{'kernel': 'rbf', 'C': 8.8438967029975899, 'gamma': 0.0021133683330287821, 'class_weight': 'balanced'} 0.985476481319\n",
      "{'kernel': 'rbf', 'C': 343.38607630362105, 'gamma': 0.12208582188350046, 'class_weight': 'balanced'} 0.0209367845031\n",
      "{'kernel': 'rbf', 'C': 65.383331931643738, 'gamma': 0.13766803348185574, 'class_weight': 'balanced'} 0.0209367845031\n",
      "{'kernel': 'rbf', 'C': 49.930074884039485, 'gamma': 0.08493927593788636, 'class_weight': 'balanced'} 0.0209367845031\n",
      "{'kernel': 'rbf', 'C': 283.15977561592422, 'gamma': 0.24526707457335048, 'class_weight': None} 0.0209367845031\n",
      "{'kernel': 'rbf', 'C': 18.667112997544141, 'gamma': 0.12602464435197888, 'class_weight': 'balanced'} 0.0209367845031\n"
     ]
    }
   ],
   "source": [
    "for param, score in zip(clf.cv_results_['params'], clf.cv_results_['mean_test_score']):\n",
    "    print param, score"
   ]
  },
  {
   "cell_type": "markdown",
   "metadata": {},
   "source": [
    "Don't forget the old _CV classes that are faster than gridsearch! And also don't forget about OOB error that can be a great proxy"
   ]
  },
  {
   "cell_type": "code",
   "execution_count": null,
   "metadata": {
    "collapsed": true
   },
   "outputs": [],
   "source": []
  }
 ],
 "metadata": {
  "kernelspec": {
   "display_name": "Python 2",
   "language": "python",
   "name": "python2"
  },
  "language_info": {
   "codemirror_mode": {
    "name": "ipython",
    "version": 2
   },
   "file_extension": ".py",
   "mimetype": "text/x-python",
   "name": "python",
   "nbconvert_exporter": "python",
   "pygments_lexer": "ipython2",
   "version": "2.7.10"
  }
 },
 "nbformat": 4,
 "nbformat_minor": 2
}
